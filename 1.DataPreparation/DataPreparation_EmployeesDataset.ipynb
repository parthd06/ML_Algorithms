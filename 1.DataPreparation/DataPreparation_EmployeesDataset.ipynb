{
  "nbformat": 4,
  "nbformat_minor": 0,
  "metadata": {
    "colab": {
      "name": "DataPreparation_EmployeesDataset.ipynb",
      "provenance": [],
      "authorship_tag": "ABX9TyM1iQv8+MIgN9CTGRpJ1Zjb",
      "include_colab_link": true
    },
    "kernelspec": {
      "name": "python3",
      "display_name": "Python 3"
    },
    "language_info": {
      "name": "python"
    }
  },
  "cells": [
    {
      "cell_type": "markdown",
      "metadata": {
        "id": "view-in-github",
        "colab_type": "text"
      },
      "source": [
        "<a href=\"https://colab.research.google.com/github/parthd06/ML_Algorithms/blob/main/1.DataPreparation_EmployeesDataset.ipynb\" target=\"_parent\"><img src=\"https://colab.research.google.com/assets/colab-badge.svg\" alt=\"Open In Colab\"/></a>"
      ]
    },
    {
      "cell_type": "markdown",
      "source": [
        "##Employees Dataset:\n",
        "\n",
        "### Data Preparation using a custom Dataset: Here We are using a csv file which has entries and Details about the Employees. Employee dataset contains columns such as first name, gender, start date, last login, salary bonus, \tsenior management and team. Some of the fields are null in the dataset. \n",
        "---"
      ],
      "metadata": {
        "id": "U1wHLPoR_UZD"
      }
    },
    {
      "cell_type": "code",
      "source": [
        "import pandas as pd\n",
        "df = pd.read_csv(\"/content/Employees_dataset.csv\")\n",
        "print(df)"
      ],
      "metadata": {
        "id": "jO_mfxFE_X6X",
        "colab": {
          "base_uri": "https://localhost:8080/"
        },
        "outputId": "fa47e0a9-46ea-424b-cc50-c72dec2fd2d8"
      },
      "execution_count": 5,
      "outputs": [
        {
          "output_type": "stream",
          "name": "stdout",
          "text": [
            "    First Name  Gender  ... Senior Management                  Team\n",
            "0      Douglas    Male  ...              True             Marketing\n",
            "1       Thomas    Male  ...              True                   NaN\n",
            "2        Maria  Female  ...             False               Finance\n",
            "3        Jerry    Male  ...              True               Finance\n",
            "4        Larry    Male  ...              True                   NaN\n",
            "..         ...     ...  ...               ...                   ...\n",
            "995      Henry     NaN  ...             False          Distribution\n",
            "996    Phillip    Male  ...             False               Finance\n",
            "997    Russell    Male  ...             False               Product\n",
            "998      Larry    Male  ...             False  Business Development\n",
            "999     Albert    Male  ...              True                 Sales\n",
            "\n",
            "[1000 rows x 8 columns]\n"
          ]
        }
      ]
    },
    {
      "cell_type": "code",
      "source": [
        "#Detect missing values in a particular column\n",
        "print(pd.isnull(df['Team']))"
      ],
      "metadata": {
        "colab": {
          "base_uri": "https://localhost:8080/"
        },
        "id": "9zoqED0TDV74",
        "outputId": "ec354b47-1a2a-4f80-fb7c-358eafe41fc7"
      },
      "execution_count": 6,
      "outputs": [
        {
          "output_type": "stream",
          "name": "stdout",
          "text": [
            "0      False\n",
            "1       True\n",
            "2      False\n",
            "3      False\n",
            "4       True\n",
            "       ...  \n",
            "995    False\n",
            "996    False\n",
            "997    False\n",
            "998    False\n",
            "999    False\n",
            "Name: Team, Length: 1000, dtype: bool\n"
          ]
        }
      ]
    },
    {
      "cell_type": "code",
      "source": [
        "print(pd.notnull(df['Team']))"
      ],
      "metadata": {
        "colab": {
          "base_uri": "https://localhost:8080/"
        },
        "id": "VRtO7RX0Dqj9",
        "outputId": "4caf3720-04bb-49fb-91cc-ae2ba1ba85d7"
      },
      "execution_count": 8,
      "outputs": [
        {
          "output_type": "stream",
          "name": "stdout",
          "text": [
            "0       True\n",
            "1      False\n",
            "2       True\n",
            "3       True\n",
            "4      False\n",
            "       ...  \n",
            "995     True\n",
            "996     True\n",
            "997     True\n",
            "998     True\n",
            "999     True\n",
            "Name: Team, Length: 1000, dtype: bool\n"
          ]
        }
      ]
    },
    {
      "cell_type": "code",
      "source": [
        "# Changing null values to 1111\n",
        "print(df.fillna(1111))"
      ],
      "metadata": {
        "colab": {
          "base_uri": "https://localhost:8080/"
        },
        "id": "OyLpZYtnDtT6",
        "outputId": "e7009fbb-ffc0-4e17-9cc0-8f19e80ee2ef"
      },
      "execution_count": 10,
      "outputs": [
        {
          "output_type": "stream",
          "name": "stdout",
          "text": [
            "    First Name  Gender  ... Senior Management                  Team\n",
            "0      Douglas    Male  ...              True             Marketing\n",
            "1       Thomas    Male  ...              True                  1111\n",
            "2        Maria  Female  ...             False               Finance\n",
            "3        Jerry    Male  ...              True               Finance\n",
            "4        Larry    Male  ...              True                  1111\n",
            "..         ...     ...  ...               ...                   ...\n",
            "995      Henry    1111  ...             False          Distribution\n",
            "996    Phillip    Male  ...             False               Finance\n",
            "997    Russell    Male  ...             False               Product\n",
            "998      Larry    Male  ...             False  Business Development\n",
            "999     Albert    Male  ...              True                 Sales\n",
            "\n",
            "[1000 rows x 8 columns]\n"
          ]
        }
      ]
    },
    {
      "cell_type": "code",
      "source": [
        "print(df.fillna(method='pad'))"
      ],
      "metadata": {
        "colab": {
          "base_uri": "https://localhost:8080/"
        },
        "id": "GUTttm2JDxZo",
        "outputId": "3447e114-9fd0-49d5-e2fc-567107e8a347"
      },
      "execution_count": 11,
      "outputs": [
        {
          "output_type": "stream",
          "name": "stdout",
          "text": [
            "    First Name  Gender  ... Senior Management                  Team\n",
            "0      Douglas    Male  ...              True             Marketing\n",
            "1       Thomas    Male  ...              True             Marketing\n",
            "2        Maria  Female  ...             False               Finance\n",
            "3        Jerry    Male  ...              True               Finance\n",
            "4        Larry    Male  ...              True               Finance\n",
            "..         ...     ...  ...               ...                   ...\n",
            "995      Henry    Male  ...             False          Distribution\n",
            "996    Phillip    Male  ...             False               Finance\n",
            "997    Russell    Male  ...             False               Product\n",
            "998      Larry    Male  ...             False  Business Development\n",
            "999     Albert    Male  ...              True                 Sales\n",
            "\n",
            "[1000 rows x 8 columns]\n"
          ]
        }
      ]
    },
    {
      "cell_type": "code",
      "source": [
        "df.fillna(method='bfill') # check the output\n",
        "print(df)"
      ],
      "metadata": {
        "id": "2CqPPCI3uT1m",
        "colab": {
          "base_uri": "https://localhost:8080/"
        },
        "outputId": "8a0e59f6-c30c-4020-b617-c3e4281ea3f3"
      },
      "execution_count": 12,
      "outputs": [
        {
          "output_type": "stream",
          "name": "stdout",
          "text": [
            "    First Name  Gender  ... Senior Management                  Team\n",
            "0      Douglas    Male  ...              True             Marketing\n",
            "1       Thomas    Male  ...              True                   NaN\n",
            "2        Maria  Female  ...             False               Finance\n",
            "3        Jerry    Male  ...              True               Finance\n",
            "4        Larry    Male  ...              True                   NaN\n",
            "..         ...     ...  ...               ...                   ...\n",
            "995      Henry     NaN  ...             False          Distribution\n",
            "996    Phillip    Male  ...             False               Finance\n",
            "997    Russell    Male  ...             False               Product\n",
            "998      Larry    Male  ...             False  Business Development\n",
            "999     Albert    Male  ...              True                 Sales\n",
            "\n",
            "[1000 rows x 8 columns]\n"
          ]
        }
      ]
    },
    {
      "cell_type": "code",
      "source": [
        "df['Gender'].fillna(\"No Gender\",inplace=True)\n",
        "print(df)"
      ],
      "metadata": {
        "colab": {
          "base_uri": "https://localhost:8080/"
        },
        "id": "-SUFeWEsEQQ2",
        "outputId": "cc945017-cd1a-482e-8b22-296a43a67e5a"
      },
      "execution_count": 13,
      "outputs": [
        {
          "output_type": "stream",
          "name": "stdout",
          "text": [
            "    First Name     Gender  ... Senior Management                  Team\n",
            "0      Douglas       Male  ...              True             Marketing\n",
            "1       Thomas       Male  ...              True                   NaN\n",
            "2        Maria     Female  ...             False               Finance\n",
            "3        Jerry       Male  ...              True               Finance\n",
            "4        Larry       Male  ...              True                   NaN\n",
            "..         ...        ...  ...               ...                   ...\n",
            "995      Henry  No Gender  ...             False          Distribution\n",
            "996    Phillip       Male  ...             False               Finance\n",
            "997    Russell       Male  ...             False               Product\n",
            "998      Larry       Male  ...             False  Business Development\n",
            "999     Albert       Male  ...              True                 Sales\n",
            "\n",
            "[1000 rows x 8 columns]\n"
          ]
        }
      ]
    },
    {
      "cell_type": "code",
      "source": [
        "# Replacing null values to Tech\n",
        "import numpy as np\n",
        "print(df.replace(to_replace=np.NaN,value=\"Tech\"))"
      ],
      "metadata": {
        "colab": {
          "base_uri": "https://localhost:8080/"
        },
        "id": "HvAf7X2bERAe",
        "outputId": "3d7637e4-46c2-49c7-d56b-9fdd0adb1614"
      },
      "execution_count": 14,
      "outputs": [
        {
          "output_type": "stream",
          "name": "stdout",
          "text": [
            "    First Name     Gender  ... Senior Management                  Team\n",
            "0      Douglas       Male  ...              True             Marketing\n",
            "1       Thomas       Male  ...              True                  Tech\n",
            "2        Maria     Female  ...             False               Finance\n",
            "3        Jerry       Male  ...              True               Finance\n",
            "4        Larry       Male  ...              True                  Tech\n",
            "..         ...        ...  ...               ...                   ...\n",
            "995      Henry  No Gender  ...             False          Distribution\n",
            "996    Phillip       Male  ...             False               Finance\n",
            "997    Russell       Male  ...             False               Product\n",
            "998      Larry       Male  ...             False  Business Development\n",
            "999     Albert       Male  ...              True                 Sales\n",
            "\n",
            "[1000 rows x 8 columns]\n"
          ]
        }
      ]
    },
    {
      "cell_type": "code",
      "source": [
        "print(df)"
      ],
      "metadata": {
        "colab": {
          "base_uri": "https://localhost:8080/"
        },
        "id": "SuII8PUyEr86",
        "outputId": "c5defc29-8cfe-4a7c-bb14-b1d8d08536b4"
      },
      "execution_count": 15,
      "outputs": [
        {
          "output_type": "stream",
          "name": "stdout",
          "text": [
            "    First Name     Gender  ... Senior Management                  Team\n",
            "0      Douglas       Male  ...              True             Marketing\n",
            "1       Thomas       Male  ...              True                   NaN\n",
            "2        Maria     Female  ...             False               Finance\n",
            "3        Jerry       Male  ...              True               Finance\n",
            "4        Larry       Male  ...              True                   NaN\n",
            "..         ...        ...  ...               ...                   ...\n",
            "995      Henry  No Gender  ...             False          Distribution\n",
            "996    Phillip       Male  ...             False               Finance\n",
            "997    Russell       Male  ...             False               Product\n",
            "998      Larry       Male  ...             False  Business Development\n",
            "999     Albert       Male  ...              True                 Sales\n",
            "\n",
            "[1000 rows x 8 columns]\n"
          ]
        }
      ]
    },
    {
      "cell_type": "code",
      "source": [
        "print(df.interpolate(method='linear',limit_direction='forward'))"
      ],
      "metadata": {
        "colab": {
          "base_uri": "https://localhost:8080/"
        },
        "id": "0lLpAUI_Etl0",
        "outputId": "7a5f3997-f14d-4568-b16a-002032dd8450"
      },
      "execution_count": 16,
      "outputs": [
        {
          "output_type": "stream",
          "name": "stdout",
          "text": [
            "    First Name     Gender  ... Senior Management                  Team\n",
            "0      Douglas       Male  ...              True             Marketing\n",
            "1       Thomas       Male  ...              True                   NaN\n",
            "2        Maria     Female  ...             False               Finance\n",
            "3        Jerry       Male  ...              True               Finance\n",
            "4        Larry       Male  ...              True                   NaN\n",
            "..         ...        ...  ...               ...                   ...\n",
            "995      Henry  No Gender  ...             False          Distribution\n",
            "996    Phillip       Male  ...             False               Finance\n",
            "997    Russell       Male  ...             False               Product\n",
            "998      Larry       Male  ...             False  Business Development\n",
            "999     Albert       Male  ...              True                 Sales\n",
            "\n",
            "[1000 rows x 8 columns]\n"
          ]
        }
      ]
    },
    {
      "cell_type": "code",
      "source": [
        "df1=pd.DataFrame({\"A\":[12,23,None,5,6,None],\n",
        "                  \"B\":[34,None,2,34,5,67],\n",
        "                  \"C\":[67,54,33,None,77,98],\n",
        "                  \"D\":[45,87,65,33,23,None]\n",
        "\n",
        "})\n",
        "print(df1)\n"
      ],
      "metadata": {
        "colab": {
          "base_uri": "https://localhost:8080/"
        },
        "id": "fPB3C38fEvp7",
        "outputId": "521ded32-c1da-4f90-9f5d-acfc3f1b4331"
      },
      "execution_count": 17,
      "outputs": [
        {
          "output_type": "stream",
          "name": "stdout",
          "text": [
            "      A     B     C     D\n",
            "0  12.0  34.0  67.0  45.0\n",
            "1  23.0   NaN  54.0  87.0\n",
            "2   NaN   2.0  33.0  65.0\n",
            "3   5.0  34.0   NaN  33.0\n",
            "4   6.0   5.0  77.0  23.0\n",
            "5   NaN  67.0  98.0   NaN\n"
          ]
        }
      ]
    },
    {
      "cell_type": "code",
      "source": [
        "print(df1.interpolate(method='linear',limit_direction='forward'))"
      ],
      "metadata": {
        "colab": {
          "base_uri": "https://localhost:8080/"
        },
        "id": "22pFg_LgExR8",
        "outputId": "0843f063-d914-4905-927b-01ba8e43d78c"
      },
      "execution_count": 18,
      "outputs": [
        {
          "output_type": "stream",
          "name": "stdout",
          "text": [
            "      A     B     C     D\n",
            "0  12.0  34.0  67.0  45.0\n",
            "1  23.0  18.0  54.0  87.0\n",
            "2  14.0   2.0  33.0  65.0\n",
            "3   5.0  34.0  55.0  33.0\n",
            "4   6.0   5.0  77.0  23.0\n",
            "5   6.0  67.0  98.0  23.0\n"
          ]
        }
      ]
    },
    {
      "cell_type": "code",
      "source": [
        "print(df1.dropna())"
      ],
      "metadata": {
        "colab": {
          "base_uri": "https://localhost:8080/"
        },
        "id": "IwfzFbZREzUk",
        "outputId": "a5010e03-3393-4fad-abf5-65386b07cc22"
      },
      "execution_count": 19,
      "outputs": [
        {
          "output_type": "stream",
          "name": "stdout",
          "text": [
            "      A     B     C     D\n",
            "0  12.0  34.0  67.0  45.0\n",
            "4   6.0   5.0  77.0  23.0\n"
          ]
        }
      ]
    },
    {
      "cell_type": "code",
      "source": [
        ""
      ],
      "metadata": {
        "id": "iqgmvla3E0lb"
      },
      "execution_count": null,
      "outputs": []
    }
  ]
}